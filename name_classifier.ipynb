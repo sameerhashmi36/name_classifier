{
  "nbformat": 4,
  "nbformat_minor": 0,
  "metadata": {
    "colab": {
      "name": "name_classifier.ipynb",
      "provenance": [],
      "collapsed_sections": []
    },
    "kernelspec": {
      "name": "python3",
      "display_name": "Python 3"
    },
    "language_info": {
      "name": "python"
    },
    "accelerator": "GPU"
  },
  "cells": [
    {
      "cell_type": "code",
      "execution_count": null,
      "metadata": {
        "id": "1KW46mTxRpZ9"
      },
      "outputs": [],
      "source": [
        "from collections import defaultdict\n",
        "import copy\n",
        "import random\n",
        "import os\n",
        "import shutil\n",
        "from urllib.request import urlretrieve\n",
        "import albumentations as A\n",
        "import cv2\n",
        "import matplotlib.pyplot as plt\n",
        "from tqdm import tqdm\n",
        "import torch\n",
        "import torch.backends.cudnn as cudnn\n",
        "import torch.nn as nn\n",
        "import torch.optim\n",
        "from torch.utils.data import Dataset, DataLoader\n",
        "import torchvision.models as models\n",
        "from torchvision import transforms"
      ]
    },
    {
      "cell_type": "code",
      "source": [
        "# !tar -xvf  '/content/drive/MyDrive/name_classifier/name_data.tar.gz' -C '/content/drive/MyDrive/name_classifier/'"
      ],
      "metadata": {
        "id": "maQJNryvcDIs"
      },
      "execution_count": null,
      "outputs": []
    },
    {
      "cell_type": "code",
      "source": [
        "import pandas as pd\n",
        "import numpy as np"
      ],
      "metadata": {
        "id": "T06jK9QJN1t1"
      },
      "execution_count": null,
      "outputs": []
    },
    {
      "cell_type": "code",
      "source": [
        "from albumentations.pytorch import ToTensor"
      ],
      "metadata": {
        "id": "x23N60blTxJ3"
      },
      "execution_count": null,
      "outputs": []
    },
    {
      "cell_type": "code",
      "source": [
        "import ssl\n",
        "ssl._create_default_https_context = ssl._create_unverified_context"
      ],
      "metadata": {
        "id": "aZd3c1PeTx4F"
      },
      "execution_count": null,
      "outputs": []
    },
    {
      "cell_type": "code",
      "source": [
        "import gzip\n",
        "import csv"
      ],
      "metadata": {
        "id": "X-xGi-VNW5GG"
      },
      "execution_count": null,
      "outputs": []
    },
    {
      "cell_type": "code",
      "source": [
        "from google.colab import drive\n",
        "drive.mount('/content/drive')"
      ],
      "metadata": {
        "colab": {
          "base_uri": "https://localhost:8080/"
        },
        "id": "rvS4ADHOTyKB",
        "outputId": "77ef853d-42bc-4ff8-cdb2-36ef217e60f6"
      },
      "execution_count": null,
      "outputs": [
        {
          "output_type": "stream",
          "name": "stdout",
          "text": [
            "Drive already mounted at /content/drive; to attempt to forcibly remount, call drive.mount(\"/content/drive\", force_remount=True).\n"
          ]
        }
      ]
    },
    {
      "cell_type": "code",
      "source": [
        "def load_data(in_folder: str):\n",
        "    \"\"\"\n",
        "    The in_folder will contain two files:\n",
        "     - person.ttl\n",
        "     - name.ttl\n",
        "\n",
        "    You will need to combine the data to generate the y values (0 or 1),\n",
        "    and train the model (see readme).\n",
        "    \"\"\"\n",
        "    path = in_folder\n",
        "    df = pd.read_csv(path)\n",
        "    df = df.dropna()\n",
        "    print(\"Shape of the data: \", df.shape)\n",
        "\n",
        "    return df"
      ],
      "metadata": {
        "id": "AcPUTD1DUEuY"
      },
      "execution_count": null,
      "outputs": []
    },
    {
      "cell_type": "code",
      "source": [
        "def split_data(data):\n",
        "    \"\"\"\n",
        "    Generate data splits\n",
        "    \"\"\"\n",
        "    path = data\n",
        "    df = load_data(path)\n",
        "    train = df[0:100000]\n",
        "    validate = df[100000:150000]\n",
        "    test = df[500000:550000]\n",
        "\n",
        "    print(type(train))\n",
        "    return train, validate, test"
      ],
      "metadata": {
        "id": "I2f7O-zGUCmN"
      },
      "execution_count": null,
      "outputs": []
    },
    {
      "cell_type": "code",
      "source": [
        "x, y, z = split_data(\"/content/drive/MyDrive/name_classifier/data/dataset.csv\")"
      ],
      "metadata": {
        "colab": {
          "base_uri": "https://localhost:8080/"
        },
        "id": "YnDh0nHWF1HG",
        "outputId": "752a7aa9-b249-461e-c759-94c196e617e4"
      },
      "execution_count": null,
      "outputs": [
        {
          "output_type": "stream",
          "name": "stdout",
          "text": [
            "Shape of the data:  (3003229, 3)\n",
            "<class 'pandas.core.frame.DataFrame'>\n"
          ]
        }
      ]
    },
    {
      "cell_type": "code",
      "source": [
        "x"
      ],
      "metadata": {
        "colab": {
          "base_uri": "https://localhost:8080/",
          "height": 424
        },
        "id": "qCdcBOShHKQi",
        "outputId": "cb3d8fd1-7171-454e-9863-7facd5fe9555"
      },
      "execution_count": null,
      "outputs": [
        {
          "output_type": "execute_result",
          "data": {
            "text/plain": [
              "        Unnamed: 0                                    name  class\n",
              "0                0                              Gold Cobra      0\n",
              "1                1                     Nielles-lès-Bléquin      0\n",
              "2                2   Spaulding Turnpike(Portsmouth–Milton)      0\n",
              "3                3  White Mountain Highway (Milton–Gorham)      0\n",
              "4                4                  Karel Matěj Čapek-Chod      1\n",
              "...            ...                                     ...    ...\n",
              "100000      100000                                 Krzyków      0\n",
              "100001      100001                                Krzymowo      0\n",
              "100002      100002                      David Julian Hirsh      0\n",
              "100003      100003                            David Julius      1\n",
              "100004      100004                      David Dennis Kagan      1\n",
              "\n",
              "[100000 rows x 3 columns]"
            ],
            "text/html": [
              "\n",
              "  <div id=\"df-1e5cce93-b244-410b-9bba-9ffc66fe8f34\">\n",
              "    <div class=\"colab-df-container\">\n",
              "      <div>\n",
              "<style scoped>\n",
              "    .dataframe tbody tr th:only-of-type {\n",
              "        vertical-align: middle;\n",
              "    }\n",
              "\n",
              "    .dataframe tbody tr th {\n",
              "        vertical-align: top;\n",
              "    }\n",
              "\n",
              "    .dataframe thead th {\n",
              "        text-align: right;\n",
              "    }\n",
              "</style>\n",
              "<table border=\"1\" class=\"dataframe\">\n",
              "  <thead>\n",
              "    <tr style=\"text-align: right;\">\n",
              "      <th></th>\n",
              "      <th>Unnamed: 0</th>\n",
              "      <th>name</th>\n",
              "      <th>class</th>\n",
              "    </tr>\n",
              "  </thead>\n",
              "  <tbody>\n",
              "    <tr>\n",
              "      <th>0</th>\n",
              "      <td>0</td>\n",
              "      <td>Gold Cobra</td>\n",
              "      <td>0</td>\n",
              "    </tr>\n",
              "    <tr>\n",
              "      <th>1</th>\n",
              "      <td>1</td>\n",
              "      <td>Nielles-lès-Bléquin</td>\n",
              "      <td>0</td>\n",
              "    </tr>\n",
              "    <tr>\n",
              "      <th>2</th>\n",
              "      <td>2</td>\n",
              "      <td>Spaulding Turnpike(Portsmouth–Milton)</td>\n",
              "      <td>0</td>\n",
              "    </tr>\n",
              "    <tr>\n",
              "      <th>3</th>\n",
              "      <td>3</td>\n",
              "      <td>White Mountain Highway (Milton–Gorham)</td>\n",
              "      <td>0</td>\n",
              "    </tr>\n",
              "    <tr>\n",
              "      <th>4</th>\n",
              "      <td>4</td>\n",
              "      <td>Karel Matěj Čapek-Chod</td>\n",
              "      <td>1</td>\n",
              "    </tr>\n",
              "    <tr>\n",
              "      <th>...</th>\n",
              "      <td>...</td>\n",
              "      <td>...</td>\n",
              "      <td>...</td>\n",
              "    </tr>\n",
              "    <tr>\n",
              "      <th>100000</th>\n",
              "      <td>100000</td>\n",
              "      <td>Krzyków</td>\n",
              "      <td>0</td>\n",
              "    </tr>\n",
              "    <tr>\n",
              "      <th>100001</th>\n",
              "      <td>100001</td>\n",
              "      <td>Krzymowo</td>\n",
              "      <td>0</td>\n",
              "    </tr>\n",
              "    <tr>\n",
              "      <th>100002</th>\n",
              "      <td>100002</td>\n",
              "      <td>David Julian Hirsh</td>\n",
              "      <td>0</td>\n",
              "    </tr>\n",
              "    <tr>\n",
              "      <th>100003</th>\n",
              "      <td>100003</td>\n",
              "      <td>David Julius</td>\n",
              "      <td>1</td>\n",
              "    </tr>\n",
              "    <tr>\n",
              "      <th>100004</th>\n",
              "      <td>100004</td>\n",
              "      <td>David Dennis Kagan</td>\n",
              "      <td>1</td>\n",
              "    </tr>\n",
              "  </tbody>\n",
              "</table>\n",
              "<p>100000 rows × 3 columns</p>\n",
              "</div>\n",
              "      <button class=\"colab-df-convert\" onclick=\"convertToInteractive('df-1e5cce93-b244-410b-9bba-9ffc66fe8f34')\"\n",
              "              title=\"Convert this dataframe to an interactive table.\"\n",
              "              style=\"display:none;\">\n",
              "        \n",
              "  <svg xmlns=\"http://www.w3.org/2000/svg\" height=\"24px\"viewBox=\"0 0 24 24\"\n",
              "       width=\"24px\">\n",
              "    <path d=\"M0 0h24v24H0V0z\" fill=\"none\"/>\n",
              "    <path d=\"M18.56 5.44l.94 2.06.94-2.06 2.06-.94-2.06-.94-.94-2.06-.94 2.06-2.06.94zm-11 1L8.5 8.5l.94-2.06 2.06-.94-2.06-.94L8.5 2.5l-.94 2.06-2.06.94zm10 10l.94 2.06.94-2.06 2.06-.94-2.06-.94-.94-2.06-.94 2.06-2.06.94z\"/><path d=\"M17.41 7.96l-1.37-1.37c-.4-.4-.92-.59-1.43-.59-.52 0-1.04.2-1.43.59L10.3 9.45l-7.72 7.72c-.78.78-.78 2.05 0 2.83L4 21.41c.39.39.9.59 1.41.59.51 0 1.02-.2 1.41-.59l7.78-7.78 2.81-2.81c.8-.78.8-2.07 0-2.86zM5.41 20L4 18.59l7.72-7.72 1.47 1.35L5.41 20z\"/>\n",
              "  </svg>\n",
              "      </button>\n",
              "      \n",
              "  <style>\n",
              "    .colab-df-container {\n",
              "      display:flex;\n",
              "      flex-wrap:wrap;\n",
              "      gap: 12px;\n",
              "    }\n",
              "\n",
              "    .colab-df-convert {\n",
              "      background-color: #E8F0FE;\n",
              "      border: none;\n",
              "      border-radius: 50%;\n",
              "      cursor: pointer;\n",
              "      display: none;\n",
              "      fill: #1967D2;\n",
              "      height: 32px;\n",
              "      padding: 0 0 0 0;\n",
              "      width: 32px;\n",
              "    }\n",
              "\n",
              "    .colab-df-convert:hover {\n",
              "      background-color: #E2EBFA;\n",
              "      box-shadow: 0px 1px 2px rgba(60, 64, 67, 0.3), 0px 1px 3px 1px rgba(60, 64, 67, 0.15);\n",
              "      fill: #174EA6;\n",
              "    }\n",
              "\n",
              "    [theme=dark] .colab-df-convert {\n",
              "      background-color: #3B4455;\n",
              "      fill: #D2E3FC;\n",
              "    }\n",
              "\n",
              "    [theme=dark] .colab-df-convert:hover {\n",
              "      background-color: #434B5C;\n",
              "      box-shadow: 0px 1px 3px 1px rgba(0, 0, 0, 0.15);\n",
              "      filter: drop-shadow(0px 1px 2px rgba(0, 0, 0, 0.3));\n",
              "      fill: #FFFFFF;\n",
              "    }\n",
              "  </style>\n",
              "\n",
              "      <script>\n",
              "        const buttonEl =\n",
              "          document.querySelector('#df-1e5cce93-b244-410b-9bba-9ffc66fe8f34 button.colab-df-convert');\n",
              "        buttonEl.style.display =\n",
              "          google.colab.kernel.accessAllowed ? 'block' : 'none';\n",
              "\n",
              "        async function convertToInteractive(key) {\n",
              "          const element = document.querySelector('#df-1e5cce93-b244-410b-9bba-9ffc66fe8f34');\n",
              "          const dataTable =\n",
              "            await google.colab.kernel.invokeFunction('convertToInteractive',\n",
              "                                                     [key], {});\n",
              "          if (!dataTable) return;\n",
              "\n",
              "          const docLinkHtml = 'Like what you see? Visit the ' +\n",
              "            '<a target=\"_blank\" href=https://colab.research.google.com/notebooks/data_table.ipynb>data table notebook</a>'\n",
              "            + ' to learn more about interactive tables.';\n",
              "          element.innerHTML = '';\n",
              "          dataTable['output_type'] = 'display_data';\n",
              "          await google.colab.output.renderOutput(dataTable, element);\n",
              "          const docLink = document.createElement('div');\n",
              "          docLink.innerHTML = docLinkHtml;\n",
              "          element.appendChild(docLink);\n",
              "        }\n",
              "      </script>\n",
              "    </div>\n",
              "  </div>\n",
              "  "
            ]
          },
          "metadata": {},
          "execution_count": 73
        }
      ]
    },
    {
      "cell_type": "code",
      "source": [
        "y"
      ],
      "metadata": {
        "colab": {
          "base_uri": "https://localhost:8080/",
          "height": 424
        },
        "id": "_Rz8Wnud_kc1",
        "outputId": "6f8ba40d-4922-4058-f0ee-1cc541e0b4c4"
      },
      "execution_count": null,
      "outputs": [
        {
          "output_type": "execute_result",
          "data": {
            "text/plain": [
              "        Unnamed: 0                                 name  class\n",
              "100005      100005                             Coulours      0\n",
              "100006      100006       7 Wonders of the Ancient World      0\n",
              "100007      100007                           David Kahn      0\n",
              "100008      100008                       David Kalivoda      1\n",
              "100009      100009                   Krzysztof Hotowski      1\n",
              "...            ...                                  ...    ...\n",
              "150002      150002                        شهرستان سردشت      0\n",
              "150003      150003  Edmund Alexander Lanquaye Bannerman      1\n",
              "150004      150004                     Tuyserkan County      0\n",
              "150005      150005                     شهرستان تویسرکان      0\n",
              "150006      150006                     Patrick M. Byrne      0\n",
              "\n",
              "[50000 rows x 3 columns]"
            ],
            "text/html": [
              "\n",
              "  <div id=\"df-d2d445c2-6165-4f2e-a5ae-d322d60e1ae8\">\n",
              "    <div class=\"colab-df-container\">\n",
              "      <div>\n",
              "<style scoped>\n",
              "    .dataframe tbody tr th:only-of-type {\n",
              "        vertical-align: middle;\n",
              "    }\n",
              "\n",
              "    .dataframe tbody tr th {\n",
              "        vertical-align: top;\n",
              "    }\n",
              "\n",
              "    .dataframe thead th {\n",
              "        text-align: right;\n",
              "    }\n",
              "</style>\n",
              "<table border=\"1\" class=\"dataframe\">\n",
              "  <thead>\n",
              "    <tr style=\"text-align: right;\">\n",
              "      <th></th>\n",
              "      <th>Unnamed: 0</th>\n",
              "      <th>name</th>\n",
              "      <th>class</th>\n",
              "    </tr>\n",
              "  </thead>\n",
              "  <tbody>\n",
              "    <tr>\n",
              "      <th>100005</th>\n",
              "      <td>100005</td>\n",
              "      <td>Coulours</td>\n",
              "      <td>0</td>\n",
              "    </tr>\n",
              "    <tr>\n",
              "      <th>100006</th>\n",
              "      <td>100006</td>\n",
              "      <td>7 Wonders of the Ancient World</td>\n",
              "      <td>0</td>\n",
              "    </tr>\n",
              "    <tr>\n",
              "      <th>100007</th>\n",
              "      <td>100007</td>\n",
              "      <td>David Kahn</td>\n",
              "      <td>0</td>\n",
              "    </tr>\n",
              "    <tr>\n",
              "      <th>100008</th>\n",
              "      <td>100008</td>\n",
              "      <td>David Kalivoda</td>\n",
              "      <td>1</td>\n",
              "    </tr>\n",
              "    <tr>\n",
              "      <th>100009</th>\n",
              "      <td>100009</td>\n",
              "      <td>Krzysztof Hotowski</td>\n",
              "      <td>1</td>\n",
              "    </tr>\n",
              "    <tr>\n",
              "      <th>...</th>\n",
              "      <td>...</td>\n",
              "      <td>...</td>\n",
              "      <td>...</td>\n",
              "    </tr>\n",
              "    <tr>\n",
              "      <th>150002</th>\n",
              "      <td>150002</td>\n",
              "      <td>شهرستان سردشت</td>\n",
              "      <td>0</td>\n",
              "    </tr>\n",
              "    <tr>\n",
              "      <th>150003</th>\n",
              "      <td>150003</td>\n",
              "      <td>Edmund Alexander Lanquaye Bannerman</td>\n",
              "      <td>1</td>\n",
              "    </tr>\n",
              "    <tr>\n",
              "      <th>150004</th>\n",
              "      <td>150004</td>\n",
              "      <td>Tuyserkan County</td>\n",
              "      <td>0</td>\n",
              "    </tr>\n",
              "    <tr>\n",
              "      <th>150005</th>\n",
              "      <td>150005</td>\n",
              "      <td>شهرستان تویسرکان</td>\n",
              "      <td>0</td>\n",
              "    </tr>\n",
              "    <tr>\n",
              "      <th>150006</th>\n",
              "      <td>150006</td>\n",
              "      <td>Patrick M. Byrne</td>\n",
              "      <td>0</td>\n",
              "    </tr>\n",
              "  </tbody>\n",
              "</table>\n",
              "<p>50000 rows × 3 columns</p>\n",
              "</div>\n",
              "      <button class=\"colab-df-convert\" onclick=\"convertToInteractive('df-d2d445c2-6165-4f2e-a5ae-d322d60e1ae8')\"\n",
              "              title=\"Convert this dataframe to an interactive table.\"\n",
              "              style=\"display:none;\">\n",
              "        \n",
              "  <svg xmlns=\"http://www.w3.org/2000/svg\" height=\"24px\"viewBox=\"0 0 24 24\"\n",
              "       width=\"24px\">\n",
              "    <path d=\"M0 0h24v24H0V0z\" fill=\"none\"/>\n",
              "    <path d=\"M18.56 5.44l.94 2.06.94-2.06 2.06-.94-2.06-.94-.94-2.06-.94 2.06-2.06.94zm-11 1L8.5 8.5l.94-2.06 2.06-.94-2.06-.94L8.5 2.5l-.94 2.06-2.06.94zm10 10l.94 2.06.94-2.06 2.06-.94-2.06-.94-.94-2.06-.94 2.06-2.06.94z\"/><path d=\"M17.41 7.96l-1.37-1.37c-.4-.4-.92-.59-1.43-.59-.52 0-1.04.2-1.43.59L10.3 9.45l-7.72 7.72c-.78.78-.78 2.05 0 2.83L4 21.41c.39.39.9.59 1.41.59.51 0 1.02-.2 1.41-.59l7.78-7.78 2.81-2.81c.8-.78.8-2.07 0-2.86zM5.41 20L4 18.59l7.72-7.72 1.47 1.35L5.41 20z\"/>\n",
              "  </svg>\n",
              "      </button>\n",
              "      \n",
              "  <style>\n",
              "    .colab-df-container {\n",
              "      display:flex;\n",
              "      flex-wrap:wrap;\n",
              "      gap: 12px;\n",
              "    }\n",
              "\n",
              "    .colab-df-convert {\n",
              "      background-color: #E8F0FE;\n",
              "      border: none;\n",
              "      border-radius: 50%;\n",
              "      cursor: pointer;\n",
              "      display: none;\n",
              "      fill: #1967D2;\n",
              "      height: 32px;\n",
              "      padding: 0 0 0 0;\n",
              "      width: 32px;\n",
              "    }\n",
              "\n",
              "    .colab-df-convert:hover {\n",
              "      background-color: #E2EBFA;\n",
              "      box-shadow: 0px 1px 2px rgba(60, 64, 67, 0.3), 0px 1px 3px 1px rgba(60, 64, 67, 0.15);\n",
              "      fill: #174EA6;\n",
              "    }\n",
              "\n",
              "    [theme=dark] .colab-df-convert {\n",
              "      background-color: #3B4455;\n",
              "      fill: #D2E3FC;\n",
              "    }\n",
              "\n",
              "    [theme=dark] .colab-df-convert:hover {\n",
              "      background-color: #434B5C;\n",
              "      box-shadow: 0px 1px 3px 1px rgba(0, 0, 0, 0.15);\n",
              "      filter: drop-shadow(0px 1px 2px rgba(0, 0, 0, 0.3));\n",
              "      fill: #FFFFFF;\n",
              "    }\n",
              "  </style>\n",
              "\n",
              "      <script>\n",
              "        const buttonEl =\n",
              "          document.querySelector('#df-d2d445c2-6165-4f2e-a5ae-d322d60e1ae8 button.colab-df-convert');\n",
              "        buttonEl.style.display =\n",
              "          google.colab.kernel.accessAllowed ? 'block' : 'none';\n",
              "\n",
              "        async function convertToInteractive(key) {\n",
              "          const element = document.querySelector('#df-d2d445c2-6165-4f2e-a5ae-d322d60e1ae8');\n",
              "          const dataTable =\n",
              "            await google.colab.kernel.invokeFunction('convertToInteractive',\n",
              "                                                     [key], {});\n",
              "          if (!dataTable) return;\n",
              "\n",
              "          const docLinkHtml = 'Like what you see? Visit the ' +\n",
              "            '<a target=\"_blank\" href=https://colab.research.google.com/notebooks/data_table.ipynb>data table notebook</a>'\n",
              "            + ' to learn more about interactive tables.';\n",
              "          element.innerHTML = '';\n",
              "          dataTable['output_type'] = 'display_data';\n",
              "          await google.colab.output.renderOutput(dataTable, element);\n",
              "          const docLink = document.createElement('div');\n",
              "          docLink.innerHTML = docLinkHtml;\n",
              "          element.appendChild(docLink);\n",
              "        }\n",
              "      </script>\n",
              "    </div>\n",
              "  </div>\n",
              "  "
            ]
          },
          "metadata": {},
          "execution_count": 74
        }
      ]
    },
    {
      "cell_type": "code",
      "source": [
        "z"
      ],
      "metadata": {
        "colab": {
          "base_uri": "https://localhost:8080/",
          "height": 424
        },
        "id": "5fWH2NVJ_cA2",
        "outputId": "d6e29ea0-1e5e-4c3d-f646-cc81082f6504"
      },
      "execution_count": null,
      "outputs": [
        {
          "output_type": "execute_result",
          "data": {
            "text/plain": [
              "        Unnamed: 0                        name  class\n",
              "500019      500019       مزرعه ولي محمدقهرماني      0\n",
              "500020      500020  Mazraeh-ye Yadollah Jafari      0\n",
              "500021      500021           مزرعه يداله جعفري      0\n",
              "500022      500022                Prairie City      0\n",
              "500023      500023                  Lymph node      0\n",
              "...            ...                         ...    ...\n",
              "550015      550015   Friedrich Casimir Kettler      1\n",
              "550016      550016          Jovanka Stanojević      1\n",
              "550017      550017                       Garde      0\n",
              "550018      550018                    Hardmead      0\n",
              "550019      550019        German 8th Air Corps      0\n",
              "\n",
              "[50000 rows x 3 columns]"
            ],
            "text/html": [
              "\n",
              "  <div id=\"df-4333248e-6e96-4513-a67a-80f17253fbea\">\n",
              "    <div class=\"colab-df-container\">\n",
              "      <div>\n",
              "<style scoped>\n",
              "    .dataframe tbody tr th:only-of-type {\n",
              "        vertical-align: middle;\n",
              "    }\n",
              "\n",
              "    .dataframe tbody tr th {\n",
              "        vertical-align: top;\n",
              "    }\n",
              "\n",
              "    .dataframe thead th {\n",
              "        text-align: right;\n",
              "    }\n",
              "</style>\n",
              "<table border=\"1\" class=\"dataframe\">\n",
              "  <thead>\n",
              "    <tr style=\"text-align: right;\">\n",
              "      <th></th>\n",
              "      <th>Unnamed: 0</th>\n",
              "      <th>name</th>\n",
              "      <th>class</th>\n",
              "    </tr>\n",
              "  </thead>\n",
              "  <tbody>\n",
              "    <tr>\n",
              "      <th>500019</th>\n",
              "      <td>500019</td>\n",
              "      <td>مزرعه ولي محمدقهرماني</td>\n",
              "      <td>0</td>\n",
              "    </tr>\n",
              "    <tr>\n",
              "      <th>500020</th>\n",
              "      <td>500020</td>\n",
              "      <td>Mazraeh-ye Yadollah Jafari</td>\n",
              "      <td>0</td>\n",
              "    </tr>\n",
              "    <tr>\n",
              "      <th>500021</th>\n",
              "      <td>500021</td>\n",
              "      <td>مزرعه يداله جعفري</td>\n",
              "      <td>0</td>\n",
              "    </tr>\n",
              "    <tr>\n",
              "      <th>500022</th>\n",
              "      <td>500022</td>\n",
              "      <td>Prairie City</td>\n",
              "      <td>0</td>\n",
              "    </tr>\n",
              "    <tr>\n",
              "      <th>500023</th>\n",
              "      <td>500023</td>\n",
              "      <td>Lymph node</td>\n",
              "      <td>0</td>\n",
              "    </tr>\n",
              "    <tr>\n",
              "      <th>...</th>\n",
              "      <td>...</td>\n",
              "      <td>...</td>\n",
              "      <td>...</td>\n",
              "    </tr>\n",
              "    <tr>\n",
              "      <th>550015</th>\n",
              "      <td>550015</td>\n",
              "      <td>Friedrich Casimir Kettler</td>\n",
              "      <td>1</td>\n",
              "    </tr>\n",
              "    <tr>\n",
              "      <th>550016</th>\n",
              "      <td>550016</td>\n",
              "      <td>Jovanka Stanojević</td>\n",
              "      <td>1</td>\n",
              "    </tr>\n",
              "    <tr>\n",
              "      <th>550017</th>\n",
              "      <td>550017</td>\n",
              "      <td>Garde</td>\n",
              "      <td>0</td>\n",
              "    </tr>\n",
              "    <tr>\n",
              "      <th>550018</th>\n",
              "      <td>550018</td>\n",
              "      <td>Hardmead</td>\n",
              "      <td>0</td>\n",
              "    </tr>\n",
              "    <tr>\n",
              "      <th>550019</th>\n",
              "      <td>550019</td>\n",
              "      <td>German 8th Air Corps</td>\n",
              "      <td>0</td>\n",
              "    </tr>\n",
              "  </tbody>\n",
              "</table>\n",
              "<p>50000 rows × 3 columns</p>\n",
              "</div>\n",
              "      <button class=\"colab-df-convert\" onclick=\"convertToInteractive('df-4333248e-6e96-4513-a67a-80f17253fbea')\"\n",
              "              title=\"Convert this dataframe to an interactive table.\"\n",
              "              style=\"display:none;\">\n",
              "        \n",
              "  <svg xmlns=\"http://www.w3.org/2000/svg\" height=\"24px\"viewBox=\"0 0 24 24\"\n",
              "       width=\"24px\">\n",
              "    <path d=\"M0 0h24v24H0V0z\" fill=\"none\"/>\n",
              "    <path d=\"M18.56 5.44l.94 2.06.94-2.06 2.06-.94-2.06-.94-.94-2.06-.94 2.06-2.06.94zm-11 1L8.5 8.5l.94-2.06 2.06-.94-2.06-.94L8.5 2.5l-.94 2.06-2.06.94zm10 10l.94 2.06.94-2.06 2.06-.94-2.06-.94-.94-2.06-.94 2.06-2.06.94z\"/><path d=\"M17.41 7.96l-1.37-1.37c-.4-.4-.92-.59-1.43-.59-.52 0-1.04.2-1.43.59L10.3 9.45l-7.72 7.72c-.78.78-.78 2.05 0 2.83L4 21.41c.39.39.9.59 1.41.59.51 0 1.02-.2 1.41-.59l7.78-7.78 2.81-2.81c.8-.78.8-2.07 0-2.86zM5.41 20L4 18.59l7.72-7.72 1.47 1.35L5.41 20z\"/>\n",
              "  </svg>\n",
              "      </button>\n",
              "      \n",
              "  <style>\n",
              "    .colab-df-container {\n",
              "      display:flex;\n",
              "      flex-wrap:wrap;\n",
              "      gap: 12px;\n",
              "    }\n",
              "\n",
              "    .colab-df-convert {\n",
              "      background-color: #E8F0FE;\n",
              "      border: none;\n",
              "      border-radius: 50%;\n",
              "      cursor: pointer;\n",
              "      display: none;\n",
              "      fill: #1967D2;\n",
              "      height: 32px;\n",
              "      padding: 0 0 0 0;\n",
              "      width: 32px;\n",
              "    }\n",
              "\n",
              "    .colab-df-convert:hover {\n",
              "      background-color: #E2EBFA;\n",
              "      box-shadow: 0px 1px 2px rgba(60, 64, 67, 0.3), 0px 1px 3px 1px rgba(60, 64, 67, 0.15);\n",
              "      fill: #174EA6;\n",
              "    }\n",
              "\n",
              "    [theme=dark] .colab-df-convert {\n",
              "      background-color: #3B4455;\n",
              "      fill: #D2E3FC;\n",
              "    }\n",
              "\n",
              "    [theme=dark] .colab-df-convert:hover {\n",
              "      background-color: #434B5C;\n",
              "      box-shadow: 0px 1px 3px 1px rgba(0, 0, 0, 0.15);\n",
              "      filter: drop-shadow(0px 1px 2px rgba(0, 0, 0, 0.3));\n",
              "      fill: #FFFFFF;\n",
              "    }\n",
              "  </style>\n",
              "\n",
              "      <script>\n",
              "        const buttonEl =\n",
              "          document.querySelector('#df-4333248e-6e96-4513-a67a-80f17253fbea button.colab-df-convert');\n",
              "        buttonEl.style.display =\n",
              "          google.colab.kernel.accessAllowed ? 'block' : 'none';\n",
              "\n",
              "        async function convertToInteractive(key) {\n",
              "          const element = document.querySelector('#df-4333248e-6e96-4513-a67a-80f17253fbea');\n",
              "          const dataTable =\n",
              "            await google.colab.kernel.invokeFunction('convertToInteractive',\n",
              "                                                     [key], {});\n",
              "          if (!dataTable) return;\n",
              "\n",
              "          const docLinkHtml = 'Like what you see? Visit the ' +\n",
              "            '<a target=\"_blank\" href=https://colab.research.google.com/notebooks/data_table.ipynb>data table notebook</a>'\n",
              "            + ' to learn more about interactive tables.';\n",
              "          element.innerHTML = '';\n",
              "          dataTable['output_type'] = 'display_data';\n",
              "          await google.colab.output.renderOutput(dataTable, element);\n",
              "          const docLink = document.createElement('div');\n",
              "          docLink.innerHTML = docLinkHtml;\n",
              "          element.appendChild(docLink);\n",
              "        }\n",
              "      </script>\n",
              "    </div>\n",
              "  </div>\n",
              "  "
            ]
          },
          "metadata": {},
          "execution_count": 75
        }
      ]
    },
    {
      "cell_type": "code",
      "source": [
        "print(len(x))\n",
        "print(len(y))\n",
        "print(len(z))"
      ],
      "metadata": {
        "colab": {
          "base_uri": "https://localhost:8080/"
        },
        "id": "pUknqazHJO7C",
        "outputId": "ca8b07c8-0d98-47e9-9f39-1bcb9d603ceb"
      },
      "execution_count": null,
      "outputs": [
        {
          "output_type": "stream",
          "name": "stdout",
          "text": [
            "100000\n",
            "50000\n",
            "50000\n"
          ]
        }
      ]
    },
    {
      "cell_type": "code",
      "source": [
        "class Vocab:\n",
        "    def __init__(self, dataset):\n",
        "        self.dataset = dataset\n",
        "        self.char2id = dict()\n",
        "        self.id2char = dict()\n",
        "        self.__build_vocab()\n",
        "    \n",
        "    def __build_vocab(self):\n",
        "        self.char2id =  {'<pad>': 1, '<unk>': 2}\n",
        "\n",
        "        last_idx = 2\n",
        "\n",
        "        for name in self.dataset:\n",
        "            splitted_name = list(name)\n",
        "\n",
        "            for char in splitted_name:\n",
        "                if char in self.char2id:\n",
        "                    continue\n",
        "                else:\n",
        "                    self.char2id[char] = last_idx  + 1 \n",
        "                    last_idx +=1\n",
        "        \n",
        "        self.id2char = dict(map(reversed, self.char2id.items()))\n",
        "\n",
        "    def translate_tensor(self, input_tensor, tokenized=True):\n",
        "        sent = []\n",
        "        for idx in input_tensor:\n",
        "            char = self.id2char[int(idx)]\n",
        "            sent.append(char)\n",
        "\n",
        "        if tokenized:\n",
        "            return sent\n",
        "\n",
        "        return ' '.join(sent)\n",
        "    \n",
        "    def text_to_tensor(self, text):\n",
        "        text_tensor = []\n",
        "        for char in list(text):\n",
        "            if char in self.char2id:\n",
        "                text_tensor.append(self.char2id[char])\n",
        "            else:\n",
        "                text_tensor.append(self.char2id[\"<unk>\"])\n",
        "            \n",
        "        return text_tensor"
      ],
      "metadata": {
        "id": "y2TPSpuMBa9G"
      },
      "execution_count": null,
      "outputs": []
    },
    {
      "cell_type": "code",
      "source": [
        "dataset_vocab = Vocab(load_data(\"/content/drive/MyDrive/name_classifier/data/dataset.csv\")['name'])"
      ],
      "metadata": {
        "colab": {
          "base_uri": "https://localhost:8080/"
        },
        "id": "TvJX5ItaR_H6",
        "outputId": "65e3554b-4848-4d47-97d6-8c8ce82b304f"
      },
      "execution_count": null,
      "outputs": [
        {
          "output_type": "stream",
          "name": "stdout",
          "text": [
            "Shape of the data:  (3003229, 3)\n"
          ]
        }
      ]
    },
    {
      "cell_type": "code",
      "source": [
        "dataset_vocab"
      ],
      "metadata": {
        "colab": {
          "base_uri": "https://localhost:8080/"
        },
        "id": "LRaxs1SbXMYa",
        "outputId": "0ee117a6-81b4-4790-ed90-1b43397c5321"
      },
      "execution_count": null,
      "outputs": [
        {
          "output_type": "execute_result",
          "data": {
            "text/plain": [
              "<__main__.Vocab at 0x7fd8a324c4d0>"
            ]
          },
          "metadata": {},
          "execution_count": 79
        }
      ]
    },
    {
      "cell_type": "code",
      "source": [
        "class NameDataset(Dataset):\n",
        "    def __init__(self, dataset, vocab, max_length = 100):\n",
        "        self.dataset = dataset\n",
        "        self.vocab = vocab\n",
        "        self.max_length = 100\n",
        "\n",
        "    def __len__(self):\n",
        "        return len(self.dataset)\n",
        "\n",
        "    def __getitem__(self, index):\n",
        "        label = self.dataset.iloc[index]['class']\n",
        "        label = torch.tensor(label)\n",
        "\n",
        "        name = self.dataset.iloc[index]['name']\n",
        "\n",
        "        name = self.vocab.text_to_tensor(name)\n",
        "\n",
        "\n",
        "        if len(name) > self.max_length:\n",
        "            name = name[0:self.max_length]\n",
        "            name = torch.tensor(name)\n",
        "            \n",
        "        elif len(name) < self.max_length:\n",
        "            empty_length = self.max_length - len(name)\n",
        "            empty_length = [1]*empty_length\n",
        "            name.extend(empty_length)\n",
        "            name = torch.tensor(name)\n",
        "\n",
        "        else:\n",
        "            name = torch.tensor(name)\n",
        "\n",
        "\n",
        "        return name, label\n",
        "    "
      ],
      "metadata": {
        "id": "OREjF2QvJpS0"
      },
      "execution_count": null,
      "outputs": []
    },
    {
      "cell_type": "code",
      "source": [
        "train_data = NameDataset(x, dataset_vocab)\n",
        "val_data = NameDataset(y, dataset_vocab)"
      ],
      "metadata": {
        "id": "GUQS3-dSRlfT"
      },
      "execution_count": null,
      "outputs": []
    },
    {
      "cell_type": "code",
      "source": [
        "test_data = NameDataset(z, dataset_vocab)"
      ],
      "metadata": {
        "id": "A6T6Lr73-DPH"
      },
      "execution_count": null,
      "outputs": []
    },
    {
      "cell_type": "code",
      "source": [
        "train_data.dataset"
      ],
      "metadata": {
        "colab": {
          "base_uri": "https://localhost:8080/",
          "height": 424
        },
        "id": "QeVi8t9iGyYD",
        "outputId": "4ad0b6e5-267f-4952-fbea-f4bb8bb14901"
      },
      "execution_count": null,
      "outputs": [
        {
          "output_type": "execute_result",
          "data": {
            "text/plain": [
              "        Unnamed: 0                                    name  class\n",
              "0                0                              Gold Cobra      0\n",
              "1                1                     Nielles-lès-Bléquin      0\n",
              "2                2   Spaulding Turnpike(Portsmouth–Milton)      0\n",
              "3                3  White Mountain Highway (Milton–Gorham)      0\n",
              "4                4                  Karel Matěj Čapek-Chod      1\n",
              "...            ...                                     ...    ...\n",
              "100000      100000                                 Krzyków      0\n",
              "100001      100001                                Krzymowo      0\n",
              "100002      100002                      David Julian Hirsh      0\n",
              "100003      100003                            David Julius      1\n",
              "100004      100004                      David Dennis Kagan      1\n",
              "\n",
              "[100000 rows x 3 columns]"
            ],
            "text/html": [
              "\n",
              "  <div id=\"df-1c853fc9-5eda-42cf-847a-ad3025b3679d\">\n",
              "    <div class=\"colab-df-container\">\n",
              "      <div>\n",
              "<style scoped>\n",
              "    .dataframe tbody tr th:only-of-type {\n",
              "        vertical-align: middle;\n",
              "    }\n",
              "\n",
              "    .dataframe tbody tr th {\n",
              "        vertical-align: top;\n",
              "    }\n",
              "\n",
              "    .dataframe thead th {\n",
              "        text-align: right;\n",
              "    }\n",
              "</style>\n",
              "<table border=\"1\" class=\"dataframe\">\n",
              "  <thead>\n",
              "    <tr style=\"text-align: right;\">\n",
              "      <th></th>\n",
              "      <th>Unnamed: 0</th>\n",
              "      <th>name</th>\n",
              "      <th>class</th>\n",
              "    </tr>\n",
              "  </thead>\n",
              "  <tbody>\n",
              "    <tr>\n",
              "      <th>0</th>\n",
              "      <td>0</td>\n",
              "      <td>Gold Cobra</td>\n",
              "      <td>0</td>\n",
              "    </tr>\n",
              "    <tr>\n",
              "      <th>1</th>\n",
              "      <td>1</td>\n",
              "      <td>Nielles-lès-Bléquin</td>\n",
              "      <td>0</td>\n",
              "    </tr>\n",
              "    <tr>\n",
              "      <th>2</th>\n",
              "      <td>2</td>\n",
              "      <td>Spaulding Turnpike(Portsmouth–Milton)</td>\n",
              "      <td>0</td>\n",
              "    </tr>\n",
              "    <tr>\n",
              "      <th>3</th>\n",
              "      <td>3</td>\n",
              "      <td>White Mountain Highway (Milton–Gorham)</td>\n",
              "      <td>0</td>\n",
              "    </tr>\n",
              "    <tr>\n",
              "      <th>4</th>\n",
              "      <td>4</td>\n",
              "      <td>Karel Matěj Čapek-Chod</td>\n",
              "      <td>1</td>\n",
              "    </tr>\n",
              "    <tr>\n",
              "      <th>...</th>\n",
              "      <td>...</td>\n",
              "      <td>...</td>\n",
              "      <td>...</td>\n",
              "    </tr>\n",
              "    <tr>\n",
              "      <th>100000</th>\n",
              "      <td>100000</td>\n",
              "      <td>Krzyków</td>\n",
              "      <td>0</td>\n",
              "    </tr>\n",
              "    <tr>\n",
              "      <th>100001</th>\n",
              "      <td>100001</td>\n",
              "      <td>Krzymowo</td>\n",
              "      <td>0</td>\n",
              "    </tr>\n",
              "    <tr>\n",
              "      <th>100002</th>\n",
              "      <td>100002</td>\n",
              "      <td>David Julian Hirsh</td>\n",
              "      <td>0</td>\n",
              "    </tr>\n",
              "    <tr>\n",
              "      <th>100003</th>\n",
              "      <td>100003</td>\n",
              "      <td>David Julius</td>\n",
              "      <td>1</td>\n",
              "    </tr>\n",
              "    <tr>\n",
              "      <th>100004</th>\n",
              "      <td>100004</td>\n",
              "      <td>David Dennis Kagan</td>\n",
              "      <td>1</td>\n",
              "    </tr>\n",
              "  </tbody>\n",
              "</table>\n",
              "<p>100000 rows × 3 columns</p>\n",
              "</div>\n",
              "      <button class=\"colab-df-convert\" onclick=\"convertToInteractive('df-1c853fc9-5eda-42cf-847a-ad3025b3679d')\"\n",
              "              title=\"Convert this dataframe to an interactive table.\"\n",
              "              style=\"display:none;\">\n",
              "        \n",
              "  <svg xmlns=\"http://www.w3.org/2000/svg\" height=\"24px\"viewBox=\"0 0 24 24\"\n",
              "       width=\"24px\">\n",
              "    <path d=\"M0 0h24v24H0V0z\" fill=\"none\"/>\n",
              "    <path d=\"M18.56 5.44l.94 2.06.94-2.06 2.06-.94-2.06-.94-.94-2.06-.94 2.06-2.06.94zm-11 1L8.5 8.5l.94-2.06 2.06-.94-2.06-.94L8.5 2.5l-.94 2.06-2.06.94zm10 10l.94 2.06.94-2.06 2.06-.94-2.06-.94-.94-2.06-.94 2.06-2.06.94z\"/><path d=\"M17.41 7.96l-1.37-1.37c-.4-.4-.92-.59-1.43-.59-.52 0-1.04.2-1.43.59L10.3 9.45l-7.72 7.72c-.78.78-.78 2.05 0 2.83L4 21.41c.39.39.9.59 1.41.59.51 0 1.02-.2 1.41-.59l7.78-7.78 2.81-2.81c.8-.78.8-2.07 0-2.86zM5.41 20L4 18.59l7.72-7.72 1.47 1.35L5.41 20z\"/>\n",
              "  </svg>\n",
              "      </button>\n",
              "      \n",
              "  <style>\n",
              "    .colab-df-container {\n",
              "      display:flex;\n",
              "      flex-wrap:wrap;\n",
              "      gap: 12px;\n",
              "    }\n",
              "\n",
              "    .colab-df-convert {\n",
              "      background-color: #E8F0FE;\n",
              "      border: none;\n",
              "      border-radius: 50%;\n",
              "      cursor: pointer;\n",
              "      display: none;\n",
              "      fill: #1967D2;\n",
              "      height: 32px;\n",
              "      padding: 0 0 0 0;\n",
              "      width: 32px;\n",
              "    }\n",
              "\n",
              "    .colab-df-convert:hover {\n",
              "      background-color: #E2EBFA;\n",
              "      box-shadow: 0px 1px 2px rgba(60, 64, 67, 0.3), 0px 1px 3px 1px rgba(60, 64, 67, 0.15);\n",
              "      fill: #174EA6;\n",
              "    }\n",
              "\n",
              "    [theme=dark] .colab-df-convert {\n",
              "      background-color: #3B4455;\n",
              "      fill: #D2E3FC;\n",
              "    }\n",
              "\n",
              "    [theme=dark] .colab-df-convert:hover {\n",
              "      background-color: #434B5C;\n",
              "      box-shadow: 0px 1px 3px 1px rgba(0, 0, 0, 0.15);\n",
              "      filter: drop-shadow(0px 1px 2px rgba(0, 0, 0, 0.3));\n",
              "      fill: #FFFFFF;\n",
              "    }\n",
              "  </style>\n",
              "\n",
              "      <script>\n",
              "        const buttonEl =\n",
              "          document.querySelector('#df-1c853fc9-5eda-42cf-847a-ad3025b3679d button.colab-df-convert');\n",
              "        buttonEl.style.display =\n",
              "          google.colab.kernel.accessAllowed ? 'block' : 'none';\n",
              "\n",
              "        async function convertToInteractive(key) {\n",
              "          const element = document.querySelector('#df-1c853fc9-5eda-42cf-847a-ad3025b3679d');\n",
              "          const dataTable =\n",
              "            await google.colab.kernel.invokeFunction('convertToInteractive',\n",
              "                                                     [key], {});\n",
              "          if (!dataTable) return;\n",
              "\n",
              "          const docLinkHtml = 'Like what you see? Visit the ' +\n",
              "            '<a target=\"_blank\" href=https://colab.research.google.com/notebooks/data_table.ipynb>data table notebook</a>'\n",
              "            + ' to learn more about interactive tables.';\n",
              "          element.innerHTML = '';\n",
              "          dataTable['output_type'] = 'display_data';\n",
              "          await google.colab.output.renderOutput(dataTable, element);\n",
              "          const docLink = document.createElement('div');\n",
              "          docLink.innerHTML = docLinkHtml;\n",
              "          element.appendChild(docLink);\n",
              "        }\n",
              "      </script>\n",
              "    </div>\n",
              "  </div>\n",
              "  "
            ]
          },
          "metadata": {},
          "execution_count": 83
        }
      ]
    },
    {
      "cell_type": "code",
      "source": [
        "test_data.dataset"
      ],
      "metadata": {
        "colab": {
          "base_uri": "https://localhost:8080/",
          "height": 424
        },
        "id": "8LI2E6MK_-wd",
        "outputId": "c02da6b7-7f5e-4439-cdc2-0ac6d697372e"
      },
      "execution_count": null,
      "outputs": [
        {
          "output_type": "execute_result",
          "data": {
            "text/plain": [
              "        Unnamed: 0                        name  class\n",
              "500019      500019       مزرعه ولي محمدقهرماني      0\n",
              "500020      500020  Mazraeh-ye Yadollah Jafari      0\n",
              "500021      500021           مزرعه يداله جعفري      0\n",
              "500022      500022                Prairie City      0\n",
              "500023      500023                  Lymph node      0\n",
              "...            ...                         ...    ...\n",
              "550015      550015   Friedrich Casimir Kettler      1\n",
              "550016      550016          Jovanka Stanojević      1\n",
              "550017      550017                       Garde      0\n",
              "550018      550018                    Hardmead      0\n",
              "550019      550019        German 8th Air Corps      0\n",
              "\n",
              "[50000 rows x 3 columns]"
            ],
            "text/html": [
              "\n",
              "  <div id=\"df-e78a72c5-7e79-43ec-bb60-dae8fcd3b478\">\n",
              "    <div class=\"colab-df-container\">\n",
              "      <div>\n",
              "<style scoped>\n",
              "    .dataframe tbody tr th:only-of-type {\n",
              "        vertical-align: middle;\n",
              "    }\n",
              "\n",
              "    .dataframe tbody tr th {\n",
              "        vertical-align: top;\n",
              "    }\n",
              "\n",
              "    .dataframe thead th {\n",
              "        text-align: right;\n",
              "    }\n",
              "</style>\n",
              "<table border=\"1\" class=\"dataframe\">\n",
              "  <thead>\n",
              "    <tr style=\"text-align: right;\">\n",
              "      <th></th>\n",
              "      <th>Unnamed: 0</th>\n",
              "      <th>name</th>\n",
              "      <th>class</th>\n",
              "    </tr>\n",
              "  </thead>\n",
              "  <tbody>\n",
              "    <tr>\n",
              "      <th>500019</th>\n",
              "      <td>500019</td>\n",
              "      <td>مزرعه ولي محمدقهرماني</td>\n",
              "      <td>0</td>\n",
              "    </tr>\n",
              "    <tr>\n",
              "      <th>500020</th>\n",
              "      <td>500020</td>\n",
              "      <td>Mazraeh-ye Yadollah Jafari</td>\n",
              "      <td>0</td>\n",
              "    </tr>\n",
              "    <tr>\n",
              "      <th>500021</th>\n",
              "      <td>500021</td>\n",
              "      <td>مزرعه يداله جعفري</td>\n",
              "      <td>0</td>\n",
              "    </tr>\n",
              "    <tr>\n",
              "      <th>500022</th>\n",
              "      <td>500022</td>\n",
              "      <td>Prairie City</td>\n",
              "      <td>0</td>\n",
              "    </tr>\n",
              "    <tr>\n",
              "      <th>500023</th>\n",
              "      <td>500023</td>\n",
              "      <td>Lymph node</td>\n",
              "      <td>0</td>\n",
              "    </tr>\n",
              "    <tr>\n",
              "      <th>...</th>\n",
              "      <td>...</td>\n",
              "      <td>...</td>\n",
              "      <td>...</td>\n",
              "    </tr>\n",
              "    <tr>\n",
              "      <th>550015</th>\n",
              "      <td>550015</td>\n",
              "      <td>Friedrich Casimir Kettler</td>\n",
              "      <td>1</td>\n",
              "    </tr>\n",
              "    <tr>\n",
              "      <th>550016</th>\n",
              "      <td>550016</td>\n",
              "      <td>Jovanka Stanojević</td>\n",
              "      <td>1</td>\n",
              "    </tr>\n",
              "    <tr>\n",
              "      <th>550017</th>\n",
              "      <td>550017</td>\n",
              "      <td>Garde</td>\n",
              "      <td>0</td>\n",
              "    </tr>\n",
              "    <tr>\n",
              "      <th>550018</th>\n",
              "      <td>550018</td>\n",
              "      <td>Hardmead</td>\n",
              "      <td>0</td>\n",
              "    </tr>\n",
              "    <tr>\n",
              "      <th>550019</th>\n",
              "      <td>550019</td>\n",
              "      <td>German 8th Air Corps</td>\n",
              "      <td>0</td>\n",
              "    </tr>\n",
              "  </tbody>\n",
              "</table>\n",
              "<p>50000 rows × 3 columns</p>\n",
              "</div>\n",
              "      <button class=\"colab-df-convert\" onclick=\"convertToInteractive('df-e78a72c5-7e79-43ec-bb60-dae8fcd3b478')\"\n",
              "              title=\"Convert this dataframe to an interactive table.\"\n",
              "              style=\"display:none;\">\n",
              "        \n",
              "  <svg xmlns=\"http://www.w3.org/2000/svg\" height=\"24px\"viewBox=\"0 0 24 24\"\n",
              "       width=\"24px\">\n",
              "    <path d=\"M0 0h24v24H0V0z\" fill=\"none\"/>\n",
              "    <path d=\"M18.56 5.44l.94 2.06.94-2.06 2.06-.94-2.06-.94-.94-2.06-.94 2.06-2.06.94zm-11 1L8.5 8.5l.94-2.06 2.06-.94-2.06-.94L8.5 2.5l-.94 2.06-2.06.94zm10 10l.94 2.06.94-2.06 2.06-.94-2.06-.94-.94-2.06-.94 2.06-2.06.94z\"/><path d=\"M17.41 7.96l-1.37-1.37c-.4-.4-.92-.59-1.43-.59-.52 0-1.04.2-1.43.59L10.3 9.45l-7.72 7.72c-.78.78-.78 2.05 0 2.83L4 21.41c.39.39.9.59 1.41.59.51 0 1.02-.2 1.41-.59l7.78-7.78 2.81-2.81c.8-.78.8-2.07 0-2.86zM5.41 20L4 18.59l7.72-7.72 1.47 1.35L5.41 20z\"/>\n",
              "  </svg>\n",
              "      </button>\n",
              "      \n",
              "  <style>\n",
              "    .colab-df-container {\n",
              "      display:flex;\n",
              "      flex-wrap:wrap;\n",
              "      gap: 12px;\n",
              "    }\n",
              "\n",
              "    .colab-df-convert {\n",
              "      background-color: #E8F0FE;\n",
              "      border: none;\n",
              "      border-radius: 50%;\n",
              "      cursor: pointer;\n",
              "      display: none;\n",
              "      fill: #1967D2;\n",
              "      height: 32px;\n",
              "      padding: 0 0 0 0;\n",
              "      width: 32px;\n",
              "    }\n",
              "\n",
              "    .colab-df-convert:hover {\n",
              "      background-color: #E2EBFA;\n",
              "      box-shadow: 0px 1px 2px rgba(60, 64, 67, 0.3), 0px 1px 3px 1px rgba(60, 64, 67, 0.15);\n",
              "      fill: #174EA6;\n",
              "    }\n",
              "\n",
              "    [theme=dark] .colab-df-convert {\n",
              "      background-color: #3B4455;\n",
              "      fill: #D2E3FC;\n",
              "    }\n",
              "\n",
              "    [theme=dark] .colab-df-convert:hover {\n",
              "      background-color: #434B5C;\n",
              "      box-shadow: 0px 1px 3px 1px rgba(0, 0, 0, 0.15);\n",
              "      filter: drop-shadow(0px 1px 2px rgba(0, 0, 0, 0.3));\n",
              "      fill: #FFFFFF;\n",
              "    }\n",
              "  </style>\n",
              "\n",
              "      <script>\n",
              "        const buttonEl =\n",
              "          document.querySelector('#df-e78a72c5-7e79-43ec-bb60-dae8fcd3b478 button.colab-df-convert');\n",
              "        buttonEl.style.display =\n",
              "          google.colab.kernel.accessAllowed ? 'block' : 'none';\n",
              "\n",
              "        async function convertToInteractive(key) {\n",
              "          const element = document.querySelector('#df-e78a72c5-7e79-43ec-bb60-dae8fcd3b478');\n",
              "          const dataTable =\n",
              "            await google.colab.kernel.invokeFunction('convertToInteractive',\n",
              "                                                     [key], {});\n",
              "          if (!dataTable) return;\n",
              "\n",
              "          const docLinkHtml = 'Like what you see? Visit the ' +\n",
              "            '<a target=\"_blank\" href=https://colab.research.google.com/notebooks/data_table.ipynb>data table notebook</a>'\n",
              "            + ' to learn more about interactive tables.';\n",
              "          element.innerHTML = '';\n",
              "          dataTable['output_type'] = 'display_data';\n",
              "          await google.colab.output.renderOutput(dataTable, element);\n",
              "          const docLink = document.createElement('div');\n",
              "          docLink.innerHTML = docLinkHtml;\n",
              "          element.appendChild(docLink);\n",
              "        }\n",
              "      </script>\n",
              "    </div>\n",
              "  </div>\n",
              "  "
            ]
          },
          "metadata": {},
          "execution_count": 84
        }
      ]
    },
    {
      "cell_type": "code",
      "source": [
        "params = {\n",
        "    \"device\": \"cuda\",\n",
        "    \"lr\": 0.0001,\n",
        "    \"batch_size\": 128,\n",
        "    \"vocab_size\": len(dataset_vocab.char2id),\n",
        "    \"embedding_dim\": 32,\n",
        "    \"context_size\": 100,\n",
        "    \"output_size\": 1,\n",
        "    \"epochs\": 2\n",
        "}"
      ],
      "metadata": {
        "id": "9uxPnnxCZmFw"
      },
      "execution_count": null,
      "outputs": []
    },
    {
      "cell_type": "code",
      "source": [
        "train_dataloader = DataLoader(train_data, batch_size=params['batch_size'], shuffle=True)\n",
        "val_dataloader = DataLoader(val_data, batch_size=params['batch_size'], shuffle=False)"
      ],
      "metadata": {
        "id": "HPYokGb7ZXsk"
      },
      "execution_count": null,
      "outputs": []
    },
    {
      "cell_type": "code",
      "source": [
        "inference_dataloader = DataLoader(test_data, batch_size=params['batch_size'], shuffle=False)"
      ],
      "metadata": {
        "id": "1SZLjBeR-Gfg"
      },
      "execution_count": null,
      "outputs": []
    },
    {
      "cell_type": "code",
      "source": [
        "stream = next(iter(train_dataloader))"
      ],
      "metadata": {
        "id": "aN6nVO9aZYTU"
      },
      "execution_count": null,
      "outputs": []
    },
    {
      "cell_type": "code",
      "source": [
        "x, y = stream\n",
        "print(x.shape, y.shape)"
      ],
      "metadata": {
        "colab": {
          "base_uri": "https://localhost:8080/"
        },
        "id": "sS65N0F2ZYjs",
        "outputId": "661b8e07-7c10-463b-fc64-8afebc515314"
      },
      "execution_count": null,
      "outputs": [
        {
          "output_type": "stream",
          "name": "stdout",
          "text": [
            "torch.Size([128, 100]) torch.Size([128])\n"
          ]
        }
      ]
    },
    {
      "cell_type": "code",
      "source": [
        "y.shape"
      ],
      "metadata": {
        "colab": {
          "base_uri": "https://localhost:8080/"
        },
        "id": "fbGDnRMqGUOV",
        "outputId": "3d687a1a-795c-41b4-f216-4e2b913cbea4"
      },
      "execution_count": null,
      "outputs": [
        {
          "output_type": "execute_result",
          "data": {
            "text/plain": [
              "torch.Size([128])"
            ]
          },
          "metadata": {},
          "execution_count": 90
        }
      ]
    },
    {
      "cell_type": "code",
      "source": [
        "class CustomPretrainedModel(nn.Module):\n",
        "\n",
        "    # def __init__(self, vocab_size=params['vocab_size'], embedding_dim=params[\"embedding_dim\"]\n",
        "    #              , context_size=params[\"context_size\"], output_size=params[\"output_size\"]):\n",
        "    #     super(CustomPretrainedModel, self).__init__()\n",
        "    #     self.embeddings = nn.Embedding(vocab_size, embedding_dim)\n",
        "    #     # self.linear1 = nn.Linear(context_size * embedding_dim, 128)\n",
        "    #     self.linear1 = nn.Linear(3200, 128)\n",
        "\n",
        "    #     self.linear2 = nn.Linear(128, output_size)\n",
        "\n",
        "    # def forward(self, inputs):\n",
        "    #     embeds = self.embeddings(inputs).view((1, -1))\n",
        "    #     print(\"#################\")\n",
        "    #     print(embeds.shape)\n",
        "    #     lin1 = self.linear1(embeds)\n",
        "    #     print(lin1.shape)\n",
        "    #     out = self.linear2(lin1)\n",
        "    #     print(out)\n",
        "    #     # log_probs = nn.functional.log_softmax(out, dim=1)\n",
        "    #     return out\n",
        "\n",
        "    # def __init__(self, vocab_size=params['vocab_size'], embedding_dim=params[\"embedding_dim\"]\n",
        "    #              , context_size=params[\"context_size\"], output_size=params[\"output_size\"]):\n",
        "    #     super(CustomPretrainedModel, self).__init__()\n",
        "    #     self.embeddings = nn.Embedding(vocab_size, embedding_dim)\n",
        "    #     self.linear1 = nn.Linear(embedding_dim, vocab_size)\n",
        "    #     self.linear2 = nn.Linear(vocab_size, output_size)\n",
        "\n",
        "    # def forward(self, inputs):\n",
        "    #     embeds = self.embeddings(inputs) #.view((1, -1))\n",
        "    #     print(inputs.shape)\n",
        "    #     print(embeds.shape)\n",
        "    #     self.linear1 = nn.Flatten()\n",
        "    #     out = self.linear1(embeds)\n",
        "    #     print(out.shape)\n",
        "    #     self.linear2 = nn.Flatten()\n",
        "    #     out = self.linear2(out)\n",
        "    #     # log_probs = nn.functional.log_softmax(out, dim=1)\n",
        "    #     return out\n",
        "\n",
        "\n",
        "    ###################\n",
        "\n",
        "    def __init__(self, vocab_size=params['vocab_size'], embedding_dim=params[\"embedding_dim\"]\n",
        "                 , context_size=params[\"context_size\"], output_size=params[\"output_size\"]):\n",
        "        super(CustomPretrainedModel, self).__init__()\n",
        "        self.embeddings = nn.Embedding(vocab_size, embedding_dim)\n",
        "        self.linear1 = nn.Linear(embedding_dim, 128)\n",
        "        self.linear2 = nn.Linear(128 * context_size, output_size)\n",
        "\n",
        "    def forward(self, inputs):\n",
        "        embeds = self.embeddings(inputs)\n",
        "        # print(inputs.shape)\n",
        "        # print(embeds.shape)\n",
        "        lin1 = self.linear1(embeds)\n",
        "        flatten = nn.Flatten()(lin1)\n",
        "        out = self.linear2(flatten)\n",
        "        # print(out.shape)\n",
        "\n",
        "        return out \n"
      ],
      "metadata": {
        "id": "sSueliKTeGl4"
      },
      "execution_count": null,
      "outputs": []
    },
    {
      "cell_type": "code",
      "source": [
        "ready_model = CustomPretrainedModel()"
      ],
      "metadata": {
        "id": "Ig9bClC4gqdA"
      },
      "execution_count": null,
      "outputs": []
    },
    {
      "cell_type": "code",
      "source": [
        "ready_model"
      ],
      "metadata": {
        "colab": {
          "base_uri": "https://localhost:8080/"
        },
        "id": "RIFeJM3irNmq",
        "outputId": "35a1b0bd-7844-406e-cd36-39a47bb06b49"
      },
      "execution_count": null,
      "outputs": [
        {
          "output_type": "execute_result",
          "data": {
            "text/plain": [
              "CustomPretrainedModel(\n",
              "  (embeddings): Embedding(7335, 32)\n",
              "  (linear1): Linear(in_features=32, out_features=128, bias=True)\n",
              "  (linear2): Linear(in_features=12800, out_features=1, bias=True)\n",
              ")"
            ]
          },
          "metadata": {},
          "execution_count": 93
        }
      ]
    },
    {
      "cell_type": "code",
      "source": [
        "def calculate_accuracy(output, target):\n",
        "    output = torch.sigmoid(output) >= 0.5\n",
        "    target = target == 1.0\n",
        "    return torch.true_divide((target == output).sum(dim=0), output.size(0)).item()"
      ],
      "metadata": {
        "id": "VFEv1RG6u6xn"
      },
      "execution_count": null,
      "outputs": []
    },
    {
      "cell_type": "code",
      "source": [
        "class MetricMonitor:\n",
        "    def __init__(self, float_precision=3):\n",
        "        self.float_precision = float_precision\n",
        "        self.reset()\n",
        "\n",
        "    def reset(self):\n",
        "        self.metrics = defaultdict(lambda: {\"val\": 0, \"count\": 0, \"avg\": 0})\n",
        "\n",
        "    def update(self, metric_name, val):\n",
        "        metric = self.metrics[metric_name]\n",
        "\n",
        "        metric[\"val\"] += val\n",
        "        metric[\"count\"] += 1\n",
        "        metric[\"avg\"] = metric[\"val\"] / metric[\"count\"]\n",
        "\n",
        "    def __str__(self):\n",
        "        return \" | \".join(\n",
        "            [\n",
        "                \"{metric_name}: {avg:.{float_precision}f}\".format(\n",
        "                    metric_name=metric_name, avg=metric[\"avg\"], float_precision=self.float_precision\n",
        "                )\n",
        "                for (metric_name, metric) in self.metrics.items()\n",
        "            ]\n",
        "        )"
      ],
      "metadata": {
        "id": "wjs4gvcrvNSG"
      },
      "execution_count": null,
      "outputs": []
    },
    {
      "cell_type": "code",
      "source": [
        "model = ready_model.to(params[\"device\"])\n",
        "criterion = nn.BCEWithLogitsLoss().to(params[\"device\"])\n",
        "optimizer = torch.optim.Adam(model.parameters(), lr=params[\"lr\"])"
      ],
      "metadata": {
        "id": "Di4W3-GBvSe9"
      },
      "execution_count": null,
      "outputs": []
    },
    {
      "cell_type": "code",
      "source": [
        "def train(train_loader, model, criterion, optimizer, epoch, params):\n",
        "    metric_monitor = MetricMonitor()\n",
        "    model.train()\n",
        "    stream = tqdm(train_loader)\n",
        "    \n",
        "    for i, (texts, target) in enumerate(stream, start=1):\n",
        "        texts = texts.to(params[\"device\"], non_blocking=True)\n",
        "        target = target.to(params[\"device\"], non_blocking=True).float().view(-1, 1)\n",
        "        output = model(texts)\n",
        "\n",
        "        # print(\"##$$$$$$$###\")\n",
        "        # print(output.shape)\n",
        "        # print(target.shape)\n",
        "\n",
        "        loss = criterion(output, target)\n",
        "        accuracy = calculate_accuracy(output, target)\n",
        "        metric_monitor.update(\"Loss\", loss.item())\n",
        "        # train_losses.append(loss.item())\n",
        "        metric_monitor.update(\"Accuracy\", accuracy)\n",
        "        # train_acc.append(accuracy)\n",
        "        optimizer.zero_grad()\n",
        "        loss.backward()\n",
        "        optimizer.step()\n",
        "        stream.set_description(\n",
        "            \"Epoch: {epoch}. Train.      {metric_monitor}\".format(epoch=epoch, metric_monitor=metric_monitor)\n",
        "        )\n",
        "    return metric_monitor.metrics['Loss']['avg'], metric_monitor.metrics['Accuracy']['avg']"
      ],
      "metadata": {
        "id": "suK7Z9lovTAO"
      },
      "execution_count": null,
      "outputs": []
    },
    {
      "cell_type": "code",
      "source": [
        "def validate(val_loader, model, criterion, epoch, params):\n",
        "    metric_monitor = MetricMonitor()\n",
        "    model.eval()\n",
        "    stream = tqdm(val_loader)\n",
        "    with torch.no_grad():\n",
        "        for i, (texts, target) in enumerate(stream, start=1):\n",
        "            texts = texts.to(params[\"device\"], non_blocking=True)\n",
        "            target = target.to(params[\"device\"], non_blocking=True).float().view(-1, 1)\n",
        "            output = model(texts)\n",
        "            loss = criterion(output, target)\n",
        "            accuracy = calculate_accuracy(output, target)\n",
        "\n",
        "            metric_monitor.update(\"Loss\", loss.item())\n",
        "            # val_losses.append(loss.item())\n",
        "            metric_monitor.update(\"Accuracy\", accuracy)\n",
        "            # val_acc.append(accuracy)\n",
        "            stream.set_description(\n",
        "                \"Epoch: {epoch}. Validation. {metric_monitor}\".format(epoch=epoch, metric_monitor=metric_monitor)\n",
        "            )\n",
        "    return metric_monitor.metrics['Loss']['avg'], metric_monitor.metrics['Accuracy']['avg']"
      ],
      "metadata": {
        "id": "oCQyXLovvTS1"
      },
      "execution_count": null,
      "outputs": []
    },
    {
      "cell_type": "code",
      "source": [
        "def save_model(epoch, model, optimizer, out_folder:str):\n",
        "    \"\"\"\n",
        "    Serialise the model to an output folder \n",
        "    \"\"\"\n",
        "    torch.save({\n",
        "                'epoch': epoch,\n",
        "                'model_state_dict': model.state_dict(),\n",
        "                'optimizer_state_dict': optimizer.state_dict()\n",
        "                }, out_folder)"
      ],
      "metadata": {
        "id": "QbvCJU8STyYa"
      },
      "execution_count": null,
      "outputs": []
    },
    {
      "cell_type": "code",
      "source": [
        "train_losses = []\n",
        "train_acc = []\n",
        "\n",
        "val_losses = []\n",
        "val_acc = []\n",
        "\n",
        "prev_accuracy = 0\n",
        "for epoch in range(1, params[\"epochs\"] + 1):\n",
        "    train_loss, train_accuracy = train(train_dataloader, model, criterion, optimizer, epoch, params)\n",
        "    val_loss, val_accuracy = validate(val_dataloader, model, criterion, epoch, params)\n",
        "    \n",
        "    save_model(epoch, model, optimizer, out_folder = f\"/content/drive/MyDrive/name_classifier/models/my_model_epoch_{epoch}.pth\")\n",
        "\n",
        "    prev_accuracy = val_accuracy\n",
        "\n",
        "    train_losses.append(train_loss)\n",
        "    train_acc.append(train_accuracy)\n",
        "    val_losses.append(val_loss)\n",
        "    val_acc.append(val_accuracy)"
      ],
      "metadata": {
        "colab": {
          "base_uri": "https://localhost:8080/"
        },
        "id": "hCrXsAhpvTfu",
        "outputId": "c8e918b7-89f9-4092-d52b-89a7f2f8b1be"
      },
      "execution_count": null,
      "outputs": [
        {
          "output_type": "stream",
          "name": "stderr",
          "text": [
            "Epoch: 1. Train.      Loss: 0.455 | Accuracy: 0.790: 100%|██████████| 782/782 [00:59<00:00, 13.08it/s]\n",
            "Epoch: 1. Validation. Loss: 0.451 | Accuracy: 0.794: 100%|██████████| 391/391 [00:28<00:00, 13.63it/s]\n",
            "Epoch: 2. Train.      Loss: 0.420 | Accuracy: 0.808: 100%|██████████| 782/782 [01:15<00:00, 10.34it/s]\n",
            "Epoch: 2. Validation. Loss: 0.434 | Accuracy: 0.799: 100%|██████████| 391/391 [00:27<00:00, 13.98it/s]\n"
          ]
        }
      ]
    },
    {
      "cell_type": "code",
      "source": [
        "print(val_losses)"
      ],
      "metadata": {
        "id": "mI7OXcw2VCAg",
        "outputId": "c3b29d3c-8889-4174-cc2f-8e7d2e12dd92",
        "colab": {
          "base_uri": "https://localhost:8080/"
        }
      },
      "execution_count": null,
      "outputs": [
        {
          "output_type": "stream",
          "name": "stdout",
          "text": [
            "[0.4508926137862608, 0.4340073567674593]\n"
          ]
        }
      ]
    },
    {
      "cell_type": "code",
      "source": [
        "plt.figure(figsize=(10,5))\n",
        "plt.title(\"Training and Validation Loss\")\n",
        "plt.plot(val_losses,label=\"val\")\n",
        "plt.plot(train_losses,label=\"train\")\n",
        "plt.xlabel(\"iterations\")\n",
        "plt.ylabel(\"Loss\")\n",
        "plt.legend()\n",
        "# plt.savefig('/content/drive/MyDrive/upside_down/resnet18/images/train_and_val_loss_resnet18.jpg')\n",
        "plt.show()"
      ],
      "metadata": {
        "id": "Nv9t51V_0jsO",
        "colab": {
          "base_uri": "https://localhost:8080/",
          "height": 350
        },
        "outputId": "295ee3ac-f325-45c0-9b8e-b5239fe6fe76"
      },
      "execution_count": null,
      "outputs": [
        {
          "output_type": "display_data",
          "data": {
            "text/plain": [
              "<Figure size 720x360 with 1 Axes>"
            ],
            "image/png": "[encoded data removed]"
          },
          "metadata": {
            "needs_background": "light"
          }
        }
      ]
    },
    {
      "cell_type": "code",
      "source": [
        "plt.figure(figsize=(10,5))\n",
        "plt.title(\"Training and Validation Accuracy\")\n",
        "plt.plot(val_acc,label=\"val\")\n",
        "plt.plot(train_acc,label=\"train\")\n",
        "plt.xlabel(\"iterations\")\n",
        "plt.ylabel(\"Accuracy\")\n",
        "plt.legend()\n",
        "# plt.savefig('/content/drive/MyDrive/upside_down/resnet18/images/train_and_val_acc_resnet18.jpg')\n",
        "plt.show()"
      ],
      "metadata": {
        "colab": {
          "base_uri": "https://localhost:8080/",
          "height": 350
        },
        "id": "s6jutvTN0qH2",
        "outputId": "d0989232-b817-4d8e-94fc-f06784e05092"
      },
      "execution_count": null,
      "outputs": [
        {
          "output_type": "display_data",
          "data": {
            "text/plain": [
              "<Figure size 720x360 with 1 Axes>"
            ],
            "image/png": "[encoded data removed]"
          },
          "metadata": {
            "needs_background": "light"
          }
        }
      ]
    },
    {
      "cell_type": "code",
      "source": [
        ""
      ],
      "metadata": {
        "id": "7a47_ShTw_ax"
      },
      "execution_count": null,
      "outputs": []
    },
    {
      "cell_type": "code",
      "source": [
        "model_path = \"/content/drive/MyDrive/name_classifier/models/my_model_epoch_1.pth\"\n",
        "# /content/drive/MyDrive/name_classifier/models"
      ],
      "metadata": {
        "id": "QQix-gIeT-Gt"
      },
      "execution_count": null,
      "outputs": []
    },
    {
      "cell_type": "code",
      "source": [
        "checkpoint = torch.load(model_path, map_location=params['device'])\n",
        "model.load_state_dict(checkpoint['model_state_dict'])\n",
        "optimizer.load_state_dict(checkpoint['optimizer_state_dict'])\n",
        "epoch = checkpoint['epoch']"
      ],
      "metadata": {
        "id": "ciPyXhx_UGd1"
      },
      "execution_count": null,
      "outputs": []
    },
    {
      "cell_type": "code",
      "source": [
        ""
      ],
      "metadata": {
        "id": "UBtTrK6V4frn"
      },
      "execution_count": null,
      "outputs": []
    },
    {
      "cell_type": "code",
      "source": [
        "from sklearn.metrics import f1_score, precision_score"
      ],
      "metadata": {
        "id": "6YWtWLNo4f3Y"
      },
      "execution_count": null,
      "outputs": []
    },
    {
      "cell_type": "code",
      "source": [
        "def calculate_metrics(output, target):\n",
        "    output = torch.sigmoid(output) >= 0.5\n",
        "    target = target == 1.0\n",
        "    target = target.cpu()\n",
        "    output = output.cpu()\n",
        "    \n",
        "    return torch.true_divide((target == output).sum(dim=0), output.size(0)).item(), f1_score(target, output), precision_score(target, output)"
      ],
      "metadata": {
        "id": "XCmA6SSF4pBQ"
      },
      "execution_count": null,
      "outputs": []
    },
    {
      "cell_type": "code",
      "source": [
        "def test(test_loader, model, criterion, epoch, params):\n",
        "    metric_monitor = MetricMonitor()\n",
        "    model.eval()\n",
        "    stream = tqdm(test_loader)\n",
        "    with torch.no_grad():\n",
        "        for i, (images, target) in enumerate(stream, start=1):\n",
        "            images = images.to(params[\"device\"], non_blocking=True)\n",
        "            target = target.to(params[\"device\"], non_blocking=True).float().view(-1, 1)\n",
        "            output = model(images)\n",
        "            loss = criterion(output, target)\n",
        "            accuracy = calculate_accuracy(output, target)\n",
        "            accuracy, f1_score_var, precision = calculate_metrics(output, target)\n",
        "            # print(accuracy, f1_score_var, precision)\n",
        "            # break\n",
        "            metric_monitor.update(\"Loss\", loss.item())\n",
        "            metric_monitor.update(\"Accuracy\", accuracy)\n",
        "            metric_monitor.update(\"F1-Score\", f1_score_var)\n",
        "            metric_monitor.update(\"Precision-\", precision)\n",
        "            stream.set_description(\n",
        "                \"Epoch: {epoch}. Test. {metric_monitor}\".format(epoch=epoch, metric_monitor=metric_monitor)\n",
        "            )\n",
        "    return accuracy, f1_score"
      ],
      "metadata": {
        "id": "cY4RG9GZ4pEP"
      },
      "execution_count": null,
      "outputs": []
    },
    {
      "cell_type": "code",
      "source": [
        "test_accuracy, _ = test(inference_dataloader, model, criterion, epoch, params)"
      ],
      "metadata": {
        "colab": {
          "base_uri": "https://localhost:8080/"
        },
        "id": "PlbRHqgc4pHf",
        "outputId": "d137e00f-8ff0-47ad-cf08-16a3748d8c0a"
      },
      "execution_count": null,
      "outputs": [
        {
          "output_type": "stream",
          "name": "stderr",
          "text": [
            "Epoch: 1. Test. Loss: 0.478 | Accuracy: 0.772 | F1-Score: 0.424 | Precision-: 0.508: 100%|██████████| 391/391 [00:30<00:00, 12.93it/s]\n"
          ]
        }
      ]
    },
    {
      "cell_type": "code",
      "source": [
        ""
      ],
      "metadata": {
        "id": "4jJtEcx34pKQ"
      },
      "execution_count": null,
      "outputs": []
    },
    {
      "cell_type": "code",
      "source": [
        ""
      ],
      "metadata": {
        "id": "Hxqs27T04pNf"
      },
      "execution_count": null,
      "outputs": []
    },
    {
      "cell_type": "code",
      "source": [
        ""
      ],
      "metadata": {
        "id": "HndtAahw4pQX"
      },
      "execution_count": null,
      "outputs": []
    },
    {
      "cell_type": "code",
      "source": [
        ""
      ],
      "metadata": {
        "id": "Vk9pzfVf4pTP"
      },
      "execution_count": null,
      "outputs": []
    },
    {
      "cell_type": "code",
      "source": [
        ""
      ],
      "metadata": {
        "id": "66silbnQUMrM"
      },
      "execution_count": null,
      "outputs": []
    }
  ]
}